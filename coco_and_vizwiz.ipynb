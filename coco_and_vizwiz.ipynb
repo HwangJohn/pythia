{
 "cells": [
  {
   "cell_type": "code",
   "execution_count": 1,
   "metadata": {},
   "outputs": [
    {
     "name": "stdout",
     "output_type": "stream",
     "text": [
      "---------- BASE_PATH '/tf/notebooks/jwhwang/vqa/mypythia'\n"
     ]
    }
   ],
   "source": [
    "from glob import glob\n",
    "import os\n",
    "import numpy as np\n",
    "import matplotlib.pyplot as plt\n",
    "\n",
    "import pythiademo\n",
    "from pythiademo import PythiaDemo\n",
    "\n",
    "import json\n",
    "import pandas as pd\n",
    "from data.tokenizer.ptbtokenizer import PTBTokenizer\n",
    "\n",
    "\n",
    "%load_ext autoreload\n",
    "%autoreload 2"
   ]
  },
  {
   "cell_type": "code",
   "execution_count": 2,
   "metadata": {},
   "outputs": [],
   "source": [
    "# glob(\"./data/imdb/coco_captions/imdb_karpathy_train.npy\")\n",
    "imdb_train = np.load(\"./data/imdb/coco_captions/imdb_karpathy_train.npy\", allow_pickle=True)\n",
    "imdb_test = np.load(\"./data/imdb/coco_captions/imdb_karpathy_test.npy\", allow_pickle=True)\n",
    "imdb_val = np.load(\"./data/imdb/coco_captions/imdb_karpathy_val.npy\", allow_pickle=True)"
   ]
  },
  {
   "cell_type": "code",
   "execution_count": 16,
   "metadata": {},
   "outputs": [
    {
     "data": {
      "text/plain": [
       "array([{'metadata': 'coco'},\n",
       "       {'image_name': 'COCO_train2014_000000057870', 'image_id': 40504, 'feature_path': 'COCO_train2014_000000057870.npy', 'caption_id': 787980, 'caption_str': 'A restaurant has modern wooden tables and chairs.', 'caption_tokens': ['<s>', 'a', 'restaurant', 'has', 'modern', 'wooden', 'tables', 'and', 'chairs', '</s>'], 'reference_tokens': [['<s>', 'a', 'restaurant', 'has', 'modern', 'wooden', 'tables', 'and', 'chairs', '</s>'], ['<s>', 'a', 'long', 'restaurant', 'table', 'with', 'rattan', 'rounded', 'back', 'chairs', '</s>'], ['<s>', 'a', 'long', 'table', 'with', 'a', 'plant', 'on', 'top', 'of', 'it', 'surrounded', 'with', 'wooden', 'chairs', '</s>'], ['<s>', 'a', 'long', 'table', 'with', 'a', 'flower', 'arrangement', 'in', 'the', 'middle', 'for', 'meetings', '</s>'], ['<s>', 'a', 'table', 'is', 'adorned', 'with', 'wooden', 'chairs', 'with', 'blue', 'accents', '</s>']]}],\n",
       "      dtype=object)"
      ]
     },
     "execution_count": 16,
     "metadata": {},
     "output_type": "execute_result"
    }
   ],
   "source": [
    "imdb_train[:2]"
   ]
  },
  {
   "cell_type": "code",
   "execution_count": 246,
   "metadata": {},
   "outputs": [
    {
     "data": {
      "text/plain": [
       "array([{'metadata': 'coco'},\n",
       "       {'image_name': 'COCO_val2014_000000391895', 'image_id': 0, 'feature_path': 'COCO_val2014_000000391895.npy', 'caption_id': 770337, 'caption_str': 'A man with a red helmet on a small moped on a dirt road. ', 'caption_tokens': ['<s>', 'a', 'man', 'with', 'a', 'red', 'helmet', 'on', 'a', 'small', 'moped', 'on', 'a', 'dirt', 'road', '</s>'], 'reference_tokens': [['<s>', 'a', 'man', 'with', 'a', 'red', 'helmet', 'on', 'a', 'small', 'moped', 'on', 'a', 'dirt', 'road', '</s>'], ['<s>', 'man', 'riding', 'a', 'motor', 'bike', 'on', 'a', 'dirt', 'road', 'on', 'the', 'countryside', '</s>'], ['<s>', 'a', 'man', 'riding', 'on', 'the', 'back', 'of', 'a', 'motorcycle', '</s>'], ['<s>', 'a', 'dirt', 'path', 'with', 'a', 'young', 'person', 'on', 'a', 'motor', 'bike', 'rests', 'to', 'the', 'foreground', 'of', 'a', 'verdant', 'area', 'with', 'a', 'bridge', 'and', 'a', 'background', 'of', 'cloud', 'wreathed', 'mountains', '</s>'], ['<s>', 'a', 'man', 'in', 'a', 'red', 'shirt', 'and', 'a', 'red', 'hat', 'is', 'on', 'a', 'motorcycle', 'on', 'a', 'hill', 'side', '</s>']]}],\n",
       "      dtype=object)"
      ]
     },
     "execution_count": 246,
     "metadata": {},
     "output_type": "execute_result"
    }
   ],
   "source": [
    "imdb_test[:2]"
   ]
  },
  {
   "cell_type": "code",
   "execution_count": 3,
   "metadata": {},
   "outputs": [],
   "source": [
    "with open('./data/vizwiz/annotations/train.json', \"r\", encoding=\"utf-8\") as f:\n",
    "    train_json = json.load(f)\n",
    "    \n",
    "# with open('./data/vizwiz/annotations/test.json', \"r\") as f:\n",
    "#     test_json = json.load(f)    \n",
    "    \n",
    "with open('./data/vizwiz/annotations/val.json', \"r\", encoding=\"utf-8\") as f2:\n",
    "    val_json = json.load(f2)    "
   ]
  },
  {
   "cell_type": "code",
   "execution_count": 4,
   "metadata": {},
   "outputs": [],
   "source": [
    "# get images for train\n",
    "img_anno = []\n",
    "for img_str in train_json[\"images\"]:\n",
    "    img_anno.append({\"image_id\":img_str[\"id\"], \"image_name\":img_str[\"file_name\"].split(\".\")[0], \"file_name\":img_str[\"file_name\"]})\n",
    "    \n",
    "# get annos for train\n",
    "anno_anno = []\n",
    "for ann in train_json[\"annotations\"]:\n",
    "    anno_anno.append({\"image_id\":ann[\"image_id\"], \"caption_id\":ann[\"id\"], \"caption_str\":ann[\"caption\"]})\n",
    "    \n",
    "# get images of val\n",
    "val_img_anno = []\n",
    "for val_img_str in val_json[\"images\"]:\n",
    "    val_img_anno.append({\"image_id\":val_img_str[\"id\"], \"image_name\":val_img_str[\"file_name\"].split(\".\")[0], \"file_name\":val_img_str[\"file_name\"]})\n",
    "\n",
    "# get annos for val\n",
    "val_anno_anno = []\n",
    "for val_ann in val_json[\"annotations\"]:\n",
    "    val_anno_anno.append({\"image_id\":val_ann[\"image_id\"], \"caption_id\":val_ann[\"id\"], \"caption_str\":val_ann[\"caption\"]})"
   ]
  },
  {
   "cell_type": "code",
   "execution_count": 5,
   "metadata": {},
   "outputs": [
    {
     "data": {
      "text/html": [
       "<div>\n",
       "<style scoped>\n",
       "    .dataframe tbody tr th:only-of-type {\n",
       "        vertical-align: middle;\n",
       "    }\n",
       "\n",
       "    .dataframe tbody tr th {\n",
       "        vertical-align: top;\n",
       "    }\n",
       "\n",
       "    .dataframe thead th {\n",
       "        text-align: right;\n",
       "    }\n",
       "</style>\n",
       "<table border=\"1\" class=\"dataframe\">\n",
       "  <thead>\n",
       "    <tr style=\"text-align: right;\">\n",
       "      <th></th>\n",
       "      <th>image_id</th>\n",
       "      <th>caption_id</th>\n",
       "      <th>caption_str</th>\n",
       "      <th>image_name</th>\n",
       "      <th>file_name</th>\n",
       "    </tr>\n",
       "  </thead>\n",
       "  <tbody>\n",
       "    <tr>\n",
       "      <th>0</th>\n",
       "      <td>0</td>\n",
       "      <td>0</td>\n",
       "      <td>ITS IS A BASIL LEAVES CONTAINER ITS CONTAINS T...</td>\n",
       "      <td>VizWiz_train_00000000</td>\n",
       "      <td>VizWiz_train_00000000.jpg</td>\n",
       "    </tr>\n",
       "  </tbody>\n",
       "</table>\n",
       "</div>"
      ],
      "text/plain": [
       "   image_id  caption_id                                        caption_str  \\\n",
       "0         0           0  ITS IS A BASIL LEAVES CONTAINER ITS CONTAINS T...   \n",
       "\n",
       "              image_name                  file_name  \n",
       "0  VizWiz_train_00000000  VizWiz_train_00000000.jpg  "
      ]
     },
     "execution_count": 5,
     "metadata": {},
     "output_type": "execute_result"
    }
   ],
   "source": [
    "# for train\n",
    "img_anno_df = pd.DataFrame(img_anno)\n",
    "anno_anno_df = pd.DataFrame(anno_anno)\n",
    "anno_df = anno_anno_df.join(img_anno_df, on=\"image_id\", rsuffix=\"i_\")\n",
    "anno_df = anno_df.drop(\"image_idi_\", axis=1)\n",
    "\n",
    "anno_df.head(1)"
   ]
  },
  {
   "cell_type": "code",
   "execution_count": 6,
   "metadata": {},
   "outputs": [],
   "source": [
    "# for val\n",
    "val_img_anno_df = pd.DataFrame(val_img_anno)\n",
    "val_anno_anno_df = pd.DataFrame(val_anno_anno)\n",
    "# val_anno_df = val_anno_anno_df.join(val_img_anno_df, on=\"image_id\", rsuffix=\"i_\")\n",
    "# val_anno_df = val_anno_df.drop(\"image_idi_\", axis=1)\n",
    "val_anno_df = pd.merge(val_img_anno_df, val_anno_anno_df)"
   ]
  },
  {
   "cell_type": "code",
   "execution_count": 8,
   "metadata": {},
   "outputs": [
    {
     "data": {
      "text/html": [
       "<div>\n",
       "<style scoped>\n",
       "    .dataframe tbody tr th:only-of-type {\n",
       "        vertical-align: middle;\n",
       "    }\n",
       "\n",
       "    .dataframe tbody tr th {\n",
       "        vertical-align: top;\n",
       "    }\n",
       "\n",
       "    .dataframe thead th {\n",
       "        text-align: right;\n",
       "    }\n",
       "</style>\n",
       "<table border=\"1\" class=\"dataframe\">\n",
       "  <thead>\n",
       "    <tr style=\"text-align: right;\">\n",
       "      <th></th>\n",
       "      <th>image_id</th>\n",
       "      <th>image_name</th>\n",
       "      <th>file_name</th>\n",
       "      <th>caption_id</th>\n",
       "      <th>caption_str</th>\n",
       "    </tr>\n",
       "  </thead>\n",
       "  <tbody>\n",
       "    <tr>\n",
       "      <th>0</th>\n",
       "      <td>23431</td>\n",
       "      <td>VizWiz_val_00000000</td>\n",
       "      <td>VizWiz_val_00000000.jpg</td>\n",
       "      <td>117155</td>\n",
       "      <td>A computer screen shows a repair prompt on the...</td>\n",
       "    </tr>\n",
       "  </tbody>\n",
       "</table>\n",
       "</div>"
      ],
      "text/plain": [
       "   image_id           image_name                file_name  caption_id  \\\n",
       "0     23431  VizWiz_val_00000000  VizWiz_val_00000000.jpg      117155   \n",
       "\n",
       "                                         caption_str  \n",
       "0  A computer screen shows a repair prompt on the...  "
      ]
     },
     "execution_count": 8,
     "metadata": {},
     "output_type": "execute_result"
    }
   ],
   "source": [
    "val_anno_df.head(1)"
   ]
  },
  {
   "cell_type": "code",
   "execution_count": 9,
   "metadata": {},
   "outputs": [],
   "source": [
    "def split_caption(caption:str):\n",
    "    return ['<s>', *caption.split(\" \"), '</s>']"
   ]
  },
  {
   "cell_type": "code",
   "execution_count": 10,
   "metadata": {},
   "outputs": [],
   "source": [
    "anno_df[\"caption\"] = anno_df[\"caption_str\"].map(split_caption)\n",
    "val_anno_df[\"caption\"] = val_anno_df[\"caption_str\"].map(split_caption)\n",
    "# anno_df = anno_df.drop(\"caption_str\", axis=1)"
   ]
  },
  {
   "cell_type": "code",
   "execution_count": 11,
   "metadata": {},
   "outputs": [],
   "source": [
    "group_idx = anno_df.groupby(anno_df[\"image_id\"]).indices\n",
    "val_group_idx = val_anno_df.groupby(val_anno_df[\"image_id\"]).indices\n",
    "\n",
    "def make_references_tokens(group_idx, image_id:int):\n",
    "    return list(anno_df[\"caption\"].iloc[group_idx[image_id]])\n",
    "\n",
    "anno_df[\"reference_tokens\"] = anno_df[\"image_id\"].map(lambda x: make_references_tokens(group_idx, x))"
   ]
  },
  {
   "cell_type": "code",
   "execution_count": 12,
   "metadata": {},
   "outputs": [],
   "source": [
    "val_anno_df[\"reference_tokens\"] = val_anno_df[\"image_id\"].map(lambda x: make_references_tokens(val_group_idx, x))"
   ]
  },
  {
   "cell_type": "code",
   "execution_count": 31,
   "metadata": {},
   "outputs": [],
   "source": [
    "def make_annotation(img_name:str, img_id:int, file_name:str, caption_id:int, caption_str:str, caption:list, reference_tokens:list):\n",
    "    return {'image_name':img_name, 'image_id':img_id, 'feature_path':file_name, 'caption_id':caption_id, 'caption_str':caption_str, 'caption_tokens':caption, 'reference_tokens':reference_tokens}\n",
    "\n",
    "anno_df[\"result\"] = anno_df.apply(lambda x: make_annotation(img_name=x[\"image_name\"], img_id=x[\"image_id\"],\n",
    "                                       file_name=x[\"file_name\"], caption_id=x[\"caption_id\"], \n",
    "                                       caption_str=x[\"caption_str\"], caption=x[\"caption\"],\n",
    "                                       reference_tokens=x[\"reference_tokens\"]), axis=1)\n",
    "\n",
    "val_anno_df[\"result\"] = val_anno_df.apply(lambda x: make_annotation(img_name=x[\"image_name\"], img_id=x[\"image_id\"],\n",
    "                                       file_name=x[\"file_name\"], caption_id=x[\"caption_id\"], \n",
    "                                       caption_str=x[\"caption_str\"], caption=x[\"caption\"],\n",
    "                                       reference_tokens=x[\"reference_tokens\"]), axis=1)"
   ]
  },
  {
   "cell_type": "code",
   "execution_count": 32,
   "metadata": {},
   "outputs": [],
   "source": [
    "# vizwiz_anno = [{'metadata': 'vizwiz'}, *anno_df[\"result\"]]\n",
    "# val_vizwiz_anno = [{'metadata': 'vizwiz'}, *anno_df[\"result\"].iloc[:-100]]\n",
    "# test_vizwiz_anno = [{'metadata': 'vizwiz'}, *anno_df[\"result\"].iloc[-100:]]"
   ]
  },
  {
   "cell_type": "code",
   "execution_count": 24,
   "metadata": {},
   "outputs": [
    {
     "data": {
      "text/html": [
       "<div>\n",
       "<style scoped>\n",
       "    .dataframe tbody tr th:only-of-type {\n",
       "        vertical-align: middle;\n",
       "    }\n",
       "\n",
       "    .dataframe tbody tr th {\n",
       "        vertical-align: top;\n",
       "    }\n",
       "\n",
       "    .dataframe thead th {\n",
       "        text-align: right;\n",
       "    }\n",
       "</style>\n",
       "<table border=\"1\" class=\"dataframe\">\n",
       "  <thead>\n",
       "    <tr style=\"text-align: right;\">\n",
       "      <th></th>\n",
       "      <th>image_id</th>\n",
       "      <th>caption_id</th>\n",
       "      <th>caption_str</th>\n",
       "      <th>image_name</th>\n",
       "      <th>file_name</th>\n",
       "      <th>caption</th>\n",
       "      <th>reference_tokens</th>\n",
       "    </tr>\n",
       "  </thead>\n",
       "  <tbody>\n",
       "    <tr>\n",
       "      <th>0</th>\n",
       "      <td>0</td>\n",
       "      <td>0</td>\n",
       "      <td>ITS IS A BASIL LEAVES CONTAINER ITS CONTAINS T...</td>\n",
       "      <td>VizWiz_train_00000000</td>\n",
       "      <td>VizWiz_train_00000000.jpg</td>\n",
       "      <td>[&lt;s&gt;, ITS, IS, A, BASIL, LEAVES, CONTAINER, IT...</td>\n",
       "      <td>[[&lt;s&gt;, ITS, IS, A, BASIL, LEAVES, CONTAINER, I...</td>\n",
       "    </tr>\n",
       "  </tbody>\n",
       "</table>\n",
       "</div>"
      ],
      "text/plain": [
       "   image_id  caption_id                                        caption_str  \\\n",
       "0         0           0  ITS IS A BASIL LEAVES CONTAINER ITS CONTAINS T...   \n",
       "\n",
       "              image_name                  file_name  \\\n",
       "0  VizWiz_train_00000000  VizWiz_train_00000000.jpg   \n",
       "\n",
       "                                             caption  \\\n",
       "0  [<s>, ITS, IS, A, BASIL, LEAVES, CONTAINER, IT...   \n",
       "\n",
       "                                    reference_tokens  \n",
       "0  [[<s>, ITS, IS, A, BASIL, LEAVES, CONTAINER, I...  "
      ]
     },
     "execution_count": 24,
     "metadata": {},
     "output_type": "execute_result"
    }
   ],
   "source": [
    "anno_df.head(1)"
   ]
  },
  {
   "cell_type": "code",
   "execution_count": 34,
   "metadata": {},
   "outputs": [
    {
     "data": {
      "text/plain": [
       "array([{'metadata': 'coco'},\n",
       "       {'image_name': 'COCO_train2014_000000057870', 'image_id': 40504, 'feature_path': 'COCO_train2014_000000057870.npy', 'caption_id': 787980, 'caption_str': 'A restaurant has modern wooden tables and chairs.', 'caption_tokens': ['<s>', 'a', 'restaurant', 'has', 'modern', 'wooden', 'tables', 'and', 'chairs', '</s>'], 'reference_tokens': [['<s>', 'a', 'restaurant', 'has', 'modern', 'wooden', 'tables', 'and', 'chairs', '</s>'], ['<s>', 'a', 'long', 'restaurant', 'table', 'with', 'rattan', 'rounded', 'back', 'chairs', '</s>'], ['<s>', 'a', 'long', 'table', 'with', 'a', 'plant', 'on', 'top', 'of', 'it', 'surrounded', 'with', 'wooden', 'chairs', '</s>'], ['<s>', 'a', 'long', 'table', 'with', 'a', 'flower', 'arrangement', 'in', 'the', 'middle', 'for', 'meetings', '</s>'], ['<s>', 'a', 'table', 'is', 'adorned', 'with', 'wooden', 'chairs', 'with', 'blue', 'accents', '</s>']]}],\n",
       "      dtype=object)"
      ]
     },
     "execution_count": 34,
     "metadata": {},
     "output_type": "execute_result"
    }
   ],
   "source": [
    "# coco train anno\n",
    "imdb_train[:2]"
   ]
  },
  {
   "cell_type": "code",
   "execution_count": 127,
   "metadata": {},
   "outputs": [
    {
     "data": {
      "text/plain": [
       "array([{'metadata': 'coco'},\n",
       "       {'image_name': 'COCO_val2014_000000184613', 'image_id': 2, 'feature_path': 'COCO_val2014_000000184613.npy', 'caption_id': 474921, 'caption_str': 'A child holding a flowered umbrella and petting a yak.', 'caption_tokens': ['<s>', 'a', 'child', 'holding', 'a', 'flowered', 'umbrella', 'and', 'petting', 'a', 'yak', '</s>'], 'reference_tokens': [['<s>', 'a', 'child', 'holding', 'a', 'flowered', 'umbrella', 'and', 'petting', 'a', 'yak', '</s>'], ['<s>', 'a', 'young', 'man', 'holding', 'an', 'umbrella', 'next', 'to', 'a', 'herd', 'of', 'cattle', '</s>'], ['<s>', 'a', 'young', 'boy', 'barefoot', 'holding', 'an', 'umbrella', 'touching', 'the', 'horn', 'of', 'a', 'cow', '</s>'], ['<s>', 'a', 'young', 'boy', 'with', 'an', 'umbrella', 'who', 'is', 'touching', 'the', 'horn', 'of', 'a', 'cow', '</s>'], ['<s>', 'a', 'boy', 'holding', 'an', 'umbrella', 'while', 'standing', 'next', 'to', 'livestock', '</s>']]}],\n",
       "      dtype=object)"
      ]
     },
     "execution_count": 127,
     "metadata": {},
     "output_type": "execute_result"
    }
   ],
   "source": [
    "imdb_val[:2]"
   ]
  },
  {
   "cell_type": "code",
   "execution_count": 133,
   "metadata": {},
   "outputs": [
    {
     "data": {
      "text/plain": [
       "(40504.0, 123286.0, 26.0, 829719.0)"
      ]
     },
     "execution_count": 133,
     "metadata": {},
     "output_type": "execute_result"
    }
   ],
   "source": [
    "imdb_train_df = pd.DataFrame(imdb_train.tolist())\n",
    "imdb_train_df[\"image_id\"].min(), imdb_train_df[\"image_id\"].max(), imdb_train_df[\"caption_id\"].min(), imdb_train_df[\"caption_id\"].max()"
   ]
  },
  {
   "cell_type": "code",
   "execution_count": 130,
   "metadata": {},
   "outputs": [],
   "source": [
    "imdb_val_df = pd.DataFrame(imdb_val.tolist())"
   ]
  },
  {
   "cell_type": "code",
   "execution_count": 132,
   "metadata": {},
   "outputs": [
    {
     "data": {
      "text/plain": [
       "(2.0, 40482.0, 91.0, 829420.0)"
      ]
     },
     "execution_count": 132,
     "metadata": {},
     "output_type": "execute_result"
    }
   ],
   "source": [
    "imdb_val_df[\"image_id\"].min(), imdb_val_df[\"image_id\"].max(), imdb_val_df[\"caption_id\"].min(), imdb_val_df[\"caption_id\"].max() "
   ]
  },
  {
   "cell_type": "code",
   "execution_count": null,
   "metadata": {},
   "outputs": [],
   "source": [
    "anno_df_arr = np.asarray([*anno_df[\"result\"]])"
   ]
  },
  {
   "cell_type": "code",
   "execution_count": null,
   "metadata": {},
   "outputs": [],
   "source": [
    "# train에 대한 것\n",
    "#예상: image_id(123287~), caption_id(9278~), feature_path(jpg->npy) 일걸로 예상하지만, 실제 max값이 어떤지 확인해보기\n",
    "#실제:          123287~            829720~   \n",
    "\n",
    "# val에 대한 것\n",
    "#예상: image_id(40483~), caption_id(829421~), feature_path(jpg->npy)"
   ]
  },
  {
   "cell_type": "code",
   "execution_count": 88,
   "metadata": {},
   "outputs": [
    {
     "data": {
      "text/plain": [
       "(0, 0, 23430, 117154)"
      ]
     },
     "execution_count": 88,
     "metadata": {},
     "output_type": "execute_result"
    }
   ],
   "source": [
    "anno_df[\"image_id\"].min(), anno_df[\"caption_id\"].min(), anno_df[\"image_id\"].max(), anno_df[\"caption_id\"].max()"
   ]
  },
  {
   "cell_type": "code",
   "execution_count": 87,
   "metadata": {},
   "outputs": [
    {
     "data": {
      "text/plain": [
       "(23431, 117155, 31180, 155904)"
      ]
     },
     "execution_count": 87,
     "metadata": {},
     "output_type": "execute_result"
    }
   ],
   "source": [
    "val_anno_df[\"image_id\"].min(), val_anno_df[\"caption_id\"].min(), val_anno_df[\"image_id\"].max(), val_anno_df[\"caption_id\"].max()"
   ]
  },
  {
   "cell_type": "code",
   "execution_count": 134,
   "metadata": {},
   "outputs": [],
   "source": [
    "# index 조정하기 (image_id, caption_id)\n",
    "global offset_image_idx\n",
    "offset_image_idx = 123287\n",
    "def change_image_idx(image_id:int):\n",
    "    global offset_image_idx    \n",
    "    return offset_image_idx + image_id\n",
    "\n",
    "# index 조정하기 (image_id, caption_id)\n",
    "global offset_caption_idx\n",
    "offset_caption_idx = 829720\n",
    "def change_caption_idx(caption_id:int):\n",
    "    global offset_caption_idx    \n",
    "    return offset_caption_idx + caption_id\n",
    "\n",
    "anno_df[\"image_new_id\"] = anno_df[\"image_id\"].map(change_image_idx)\n",
    "anno_df[\"caption_new_id\"] = anno_df[\"caption_id\"].map(change_caption_idx)"
   ]
  },
  {
   "cell_type": "code",
   "execution_count": 135,
   "metadata": {},
   "outputs": [],
   "source": [
    "offset_image_idx = 40483\n",
    "offset_caption_idx = 829421\n",
    "\n",
    "val_anno_df[\"image_new_id\"] = val_anno_df[\"image_id\"].map(change_image_idx)\n",
    "val_anno_df[\"caption_new_id\"] = val_anno_df[\"caption_id\"].map(change_caption_idx)"
   ]
  },
  {
   "cell_type": "code",
   "execution_count": 136,
   "metadata": {},
   "outputs": [
    {
     "data": {
      "text/html": [
       "<div>\n",
       "<style scoped>\n",
       "    .dataframe tbody tr th:only-of-type {\n",
       "        vertical-align: middle;\n",
       "    }\n",
       "\n",
       "    .dataframe tbody tr th {\n",
       "        vertical-align: top;\n",
       "    }\n",
       "\n",
       "    .dataframe thead th {\n",
       "        text-align: right;\n",
       "    }\n",
       "</style>\n",
       "<table border=\"1\" class=\"dataframe\">\n",
       "  <thead>\n",
       "    <tr style=\"text-align: right;\">\n",
       "      <th></th>\n",
       "      <th>image_new_id</th>\n",
       "      <th>image_id</th>\n",
       "      <th>caption_new_id</th>\n",
       "      <th>caption_id</th>\n",
       "    </tr>\n",
       "  </thead>\n",
       "  <tbody>\n",
       "    <tr>\n",
       "      <th>0</th>\n",
       "      <td>123287</td>\n",
       "      <td>0</td>\n",
       "      <td>829720</td>\n",
       "      <td>0</td>\n",
       "    </tr>\n",
       "    <tr>\n",
       "      <th>1</th>\n",
       "      <td>123287</td>\n",
       "      <td>0</td>\n",
       "      <td>829721</td>\n",
       "      <td>1</td>\n",
       "    </tr>\n",
       "    <tr>\n",
       "      <th>2</th>\n",
       "      <td>123287</td>\n",
       "      <td>0</td>\n",
       "      <td>829722</td>\n",
       "      <td>2</td>\n",
       "    </tr>\n",
       "    <tr>\n",
       "      <th>3</th>\n",
       "      <td>123287</td>\n",
       "      <td>0</td>\n",
       "      <td>829723</td>\n",
       "      <td>3</td>\n",
       "    </tr>\n",
       "    <tr>\n",
       "      <th>4</th>\n",
       "      <td>123287</td>\n",
       "      <td>0</td>\n",
       "      <td>829724</td>\n",
       "      <td>4</td>\n",
       "    </tr>\n",
       "    <tr>\n",
       "      <th>5</th>\n",
       "      <td>123288</td>\n",
       "      <td>1</td>\n",
       "      <td>829725</td>\n",
       "      <td>5</td>\n",
       "    </tr>\n",
       "  </tbody>\n",
       "</table>\n",
       "</div>"
      ],
      "text/plain": [
       "   image_new_id  image_id  caption_new_id  caption_id\n",
       "0        123287         0          829720           0\n",
       "1        123287         0          829721           1\n",
       "2        123287         0          829722           2\n",
       "3        123287         0          829723           3\n",
       "4        123287         0          829724           4\n",
       "5        123288         1          829725           5"
      ]
     },
     "execution_count": 136,
     "metadata": {},
     "output_type": "execute_result"
    }
   ],
   "source": [
    "anno_df[[\"image_new_id\", \"image_id\", \"caption_new_id\", \"caption_id\"]][:6]"
   ]
  },
  {
   "cell_type": "code",
   "execution_count": 137,
   "metadata": {},
   "outputs": [
    {
     "data": {
      "text/html": [
       "<div>\n",
       "<style scoped>\n",
       "    .dataframe tbody tr th:only-of-type {\n",
       "        vertical-align: middle;\n",
       "    }\n",
       "\n",
       "    .dataframe tbody tr th {\n",
       "        vertical-align: top;\n",
       "    }\n",
       "\n",
       "    .dataframe thead th {\n",
       "        text-align: right;\n",
       "    }\n",
       "</style>\n",
       "<table border=\"1\" class=\"dataframe\">\n",
       "  <thead>\n",
       "    <tr style=\"text-align: right;\">\n",
       "      <th></th>\n",
       "      <th>image_new_id</th>\n",
       "      <th>image_id</th>\n",
       "      <th>caption_new_id</th>\n",
       "      <th>caption_id</th>\n",
       "    </tr>\n",
       "  </thead>\n",
       "  <tbody>\n",
       "    <tr>\n",
       "      <th>0</th>\n",
       "      <td>63914</td>\n",
       "      <td>23431</td>\n",
       "      <td>946576</td>\n",
       "      <td>117155</td>\n",
       "    </tr>\n",
       "    <tr>\n",
       "      <th>1</th>\n",
       "      <td>63914</td>\n",
       "      <td>23431</td>\n",
       "      <td>946577</td>\n",
       "      <td>117156</td>\n",
       "    </tr>\n",
       "    <tr>\n",
       "      <th>2</th>\n",
       "      <td>63914</td>\n",
       "      <td>23431</td>\n",
       "      <td>946578</td>\n",
       "      <td>117157</td>\n",
       "    </tr>\n",
       "    <tr>\n",
       "      <th>3</th>\n",
       "      <td>63914</td>\n",
       "      <td>23431</td>\n",
       "      <td>946579</td>\n",
       "      <td>117158</td>\n",
       "    </tr>\n",
       "    <tr>\n",
       "      <th>4</th>\n",
       "      <td>63914</td>\n",
       "      <td>23431</td>\n",
       "      <td>946580</td>\n",
       "      <td>117159</td>\n",
       "    </tr>\n",
       "    <tr>\n",
       "      <th>5</th>\n",
       "      <td>63915</td>\n",
       "      <td>23432</td>\n",
       "      <td>946581</td>\n",
       "      <td>117160</td>\n",
       "    </tr>\n",
       "  </tbody>\n",
       "</table>\n",
       "</div>"
      ],
      "text/plain": [
       "   image_new_id  image_id  caption_new_id  caption_id\n",
       "0         63914     23431          946576      117155\n",
       "1         63914     23431          946577      117156\n",
       "2         63914     23431          946578      117157\n",
       "3         63914     23431          946579      117158\n",
       "4         63914     23431          946580      117159\n",
       "5         63915     23432          946581      117160"
      ]
     },
     "execution_count": 137,
     "metadata": {},
     "output_type": "execute_result"
    }
   ],
   "source": [
    "val_anno_df[[\"image_new_id\", \"image_id\", \"caption_new_id\", \"caption_id\"]][:6]"
   ]
  },
  {
   "cell_type": "code",
   "execution_count": 138,
   "metadata": {},
   "outputs": [],
   "source": [
    "def jpg2npy(feature_path:str):\n",
    "    return feature_path.replace(\"jpg\", \"npy\")\n",
    "    \n",
    "anno_df[\"feature_path\"] = anno_df[\"file_name\"].map(jpg2npy)\n",
    "val_anno_df[\"feature_path\"] = val_anno_df[\"file_name\"].map(jpg2npy)"
   ]
  },
  {
   "cell_type": "code",
   "execution_count": 195,
   "metadata": {},
   "outputs": [
    {
     "data": {
      "text/html": [
       "<div>\n",
       "<style scoped>\n",
       "    .dataframe tbody tr th:only-of-type {\n",
       "        vertical-align: middle;\n",
       "    }\n",
       "\n",
       "    .dataframe tbody tr th {\n",
       "        vertical-align: top;\n",
       "    }\n",
       "\n",
       "    .dataframe thead th {\n",
       "        text-align: right;\n",
       "    }\n",
       "</style>\n",
       "<table border=\"1\" class=\"dataframe\">\n",
       "  <thead>\n",
       "    <tr style=\"text-align: right;\">\n",
       "      <th></th>\n",
       "      <th>image_id</th>\n",
       "      <th>caption_id</th>\n",
       "      <th>caption_str</th>\n",
       "      <th>image_name</th>\n",
       "      <th>file_name</th>\n",
       "      <th>caption</th>\n",
       "      <th>reference_tokens</th>\n",
       "      <th>result</th>\n",
       "      <th>image_new_id</th>\n",
       "      <th>caption_new_id</th>\n",
       "      <th>feature_path</th>\n",
       "    </tr>\n",
       "  </thead>\n",
       "  <tbody>\n",
       "    <tr>\n",
       "      <th>0</th>\n",
       "      <td>0</td>\n",
       "      <td>0</td>\n",
       "      <td>ITS IS A BASIL LEAVES CONTAINER ITS CONTAINS T...</td>\n",
       "      <td>VizWiz_train_00000000</td>\n",
       "      <td>VizWiz_train_00000000.jpg</td>\n",
       "      <td>[&lt;s&gt;, ITS, IS, A, BASIL, LEAVES, CONTAINER, IT...</td>\n",
       "      <td>[[&lt;s&gt;, ITS, IS, A, BASIL, LEAVES, CONTAINER, I...</td>\n",
       "      <td>{'image_name': 'VizWiz_train_00000000', 'image...</td>\n",
       "      <td>123287</td>\n",
       "      <td>829720</td>\n",
       "      <td>VizWiz_train_00000000.npy</td>\n",
       "    </tr>\n",
       "    <tr>\n",
       "      <th>1</th>\n",
       "      <td>0</td>\n",
       "      <td>1</td>\n",
       "      <td>A green and white plastic condiment bottle con...</td>\n",
       "      <td>VizWiz_train_00000000</td>\n",
       "      <td>VizWiz_train_00000000.jpg</td>\n",
       "      <td>[&lt;s&gt;, A, green, and, white, plastic, condiment...</td>\n",
       "      <td>[[&lt;s&gt;, ITS, IS, A, BASIL, LEAVES, CONTAINER, I...</td>\n",
       "      <td>{'image_name': 'VizWiz_train_00000000', 'image...</td>\n",
       "      <td>123287</td>\n",
       "      <td>829721</td>\n",
       "      <td>VizWiz_train_00000000.npy</td>\n",
       "    </tr>\n",
       "  </tbody>\n",
       "</table>\n",
       "</div>"
      ],
      "text/plain": [
       "   image_id  caption_id                                        caption_str  \\\n",
       "0         0           0  ITS IS A BASIL LEAVES CONTAINER ITS CONTAINS T...   \n",
       "1         0           1  A green and white plastic condiment bottle con...   \n",
       "\n",
       "              image_name                  file_name  \\\n",
       "0  VizWiz_train_00000000  VizWiz_train_00000000.jpg   \n",
       "1  VizWiz_train_00000000  VizWiz_train_00000000.jpg   \n",
       "\n",
       "                                             caption  \\\n",
       "0  [<s>, ITS, IS, A, BASIL, LEAVES, CONTAINER, IT...   \n",
       "1  [<s>, A, green, and, white, plastic, condiment...   \n",
       "\n",
       "                                    reference_tokens  \\\n",
       "0  [[<s>, ITS, IS, A, BASIL, LEAVES, CONTAINER, I...   \n",
       "1  [[<s>, ITS, IS, A, BASIL, LEAVES, CONTAINER, I...   \n",
       "\n",
       "                                              result  image_new_id  \\\n",
       "0  {'image_name': 'VizWiz_train_00000000', 'image...        123287   \n",
       "1  {'image_name': 'VizWiz_train_00000000', 'image...        123287   \n",
       "\n",
       "   caption_new_id               feature_path  \n",
       "0          829720  VizWiz_train_00000000.npy  \n",
       "1          829721  VizWiz_train_00000000.npy  "
      ]
     },
     "execution_count": 195,
     "metadata": {},
     "output_type": "execute_result"
    }
   ],
   "source": [
    "anno_df[:2]"
   ]
  },
  {
   "cell_type": "code",
   "execution_count": 196,
   "metadata": {},
   "outputs": [
    {
     "data": {
      "text/html": [
       "<div>\n",
       "<style scoped>\n",
       "    .dataframe tbody tr th:only-of-type {\n",
       "        vertical-align: middle;\n",
       "    }\n",
       "\n",
       "    .dataframe tbody tr th {\n",
       "        vertical-align: top;\n",
       "    }\n",
       "\n",
       "    .dataframe thead th {\n",
       "        text-align: right;\n",
       "    }\n",
       "</style>\n",
       "<table border=\"1\" class=\"dataframe\">\n",
       "  <thead>\n",
       "    <tr style=\"text-align: right;\">\n",
       "      <th></th>\n",
       "      <th>image_id</th>\n",
       "      <th>image_name</th>\n",
       "      <th>file_name</th>\n",
       "      <th>caption_id</th>\n",
       "      <th>caption_str</th>\n",
       "      <th>caption</th>\n",
       "      <th>reference_tokens</th>\n",
       "      <th>result</th>\n",
       "      <th>image_new_id</th>\n",
       "      <th>caption_new_id</th>\n",
       "      <th>feature_path</th>\n",
       "    </tr>\n",
       "  </thead>\n",
       "  <tbody>\n",
       "    <tr>\n",
       "      <th>0</th>\n",
       "      <td>23431</td>\n",
       "      <td>VizWiz_val_00000000</td>\n",
       "      <td>VizWiz_val_00000000.jpg</td>\n",
       "      <td>117155</td>\n",
       "      <td>A computer screen shows a repair prompt on the...</td>\n",
       "      <td>[&lt;s&gt;, A, computer, screen, shows, a, repair, p...</td>\n",
       "      <td>[[&lt;s&gt;, ITS, IS, A, BASIL, LEAVES, CONTAINER, I...</td>\n",
       "      <td>{'image_name': 'VizWiz_val_00000000', 'image_i...</td>\n",
       "      <td>63914</td>\n",
       "      <td>946576</td>\n",
       "      <td>VizWiz_val_00000000.npy</td>\n",
       "    </tr>\n",
       "    <tr>\n",
       "      <th>1</th>\n",
       "      <td>23431</td>\n",
       "      <td>VizWiz_val_00000000</td>\n",
       "      <td>VizWiz_val_00000000.jpg</td>\n",
       "      <td>117156</td>\n",
       "      <td>a computer screen with a repair automatically ...</td>\n",
       "      <td>[&lt;s&gt;, a, computer, screen, with, a, repair, au...</td>\n",
       "      <td>[[&lt;s&gt;, ITS, IS, A, BASIL, LEAVES, CONTAINER, I...</td>\n",
       "      <td>{'image_name': 'VizWiz_val_00000000', 'image_i...</td>\n",
       "      <td>63914</td>\n",
       "      <td>946577</td>\n",
       "      <td>VizWiz_val_00000000.npy</td>\n",
       "    </tr>\n",
       "  </tbody>\n",
       "</table>\n",
       "</div>"
      ],
      "text/plain": [
       "   image_id           image_name                file_name  caption_id  \\\n",
       "0     23431  VizWiz_val_00000000  VizWiz_val_00000000.jpg      117155   \n",
       "1     23431  VizWiz_val_00000000  VizWiz_val_00000000.jpg      117156   \n",
       "\n",
       "                                         caption_str  \\\n",
       "0  A computer screen shows a repair prompt on the...   \n",
       "1  a computer screen with a repair automatically ...   \n",
       "\n",
       "                                             caption  \\\n",
       "0  [<s>, A, computer, screen, shows, a, repair, p...   \n",
       "1  [<s>, a, computer, screen, with, a, repair, au...   \n",
       "\n",
       "                                    reference_tokens  \\\n",
       "0  [[<s>, ITS, IS, A, BASIL, LEAVES, CONTAINER, I...   \n",
       "1  [[<s>, ITS, IS, A, BASIL, LEAVES, CONTAINER, I...   \n",
       "\n",
       "                                              result  image_new_id  \\\n",
       "0  {'image_name': 'VizWiz_val_00000000', 'image_i...         63914   \n",
       "1  {'image_name': 'VizWiz_val_00000000', 'image_i...         63914   \n",
       "\n",
       "   caption_new_id             feature_path  \n",
       "0          946576  VizWiz_val_00000000.npy  \n",
       "1          946577  VizWiz_val_00000000.npy  "
      ]
     },
     "execution_count": 196,
     "metadata": {},
     "output_type": "execute_result"
    }
   ],
   "source": [
    "val_anno_df[:2]"
   ]
  },
  {
   "cell_type": "code",
   "execution_count": 142,
   "metadata": {},
   "outputs": [
    {
     "data": {
      "text/plain": [
       "dict_keys(['image_name', 'image_id', 'feature_path', 'caption_id', 'caption_str', 'caption_tokens', 'reference_tokens'])"
      ]
     },
     "execution_count": 142,
     "metadata": {},
     "output_type": "execute_result"
    }
   ],
   "source": [
    "# 남겨야 되는 퀄럼들\n",
    "imdb_train[1].keys()"
   ]
  },
  {
   "cell_type": "code",
   "execution_count": 197,
   "metadata": {},
   "outputs": [],
   "source": [
    "new_anno_df = anno_df[['image_name', 'image_new_id', 'feature_path', 'caption_new_id', 'caption_str', 'caption', 'reference_tokens']]\n",
    "new_val_anno_df = val_anno_df[['image_name', 'image_new_id', 'feature_path', 'caption_new_id', 'caption_str', 'caption', 'reference_tokens']]"
   ]
  },
  {
   "cell_type": "code",
   "execution_count": 198,
   "metadata": {},
   "outputs": [
    {
     "data": {
      "text/plain": [
       "Index(['image_name', 'image_new_id', 'feature_path', 'caption_new_id',\n",
       "       'caption_str', 'caption', 'reference_tokens'],\n",
       "      dtype='object')"
      ]
     },
     "execution_count": 198,
     "metadata": {},
     "output_type": "execute_result"
    }
   ],
   "source": [
    "new_anno_df.keys()"
   ]
  },
  {
   "cell_type": "code",
   "execution_count": 199,
   "metadata": {},
   "outputs": [
    {
     "name": "stderr",
     "output_type": "stream",
     "text": [
      "/tf/notebooks/miniconda3/envs/vqa/lib/python3.6/site-packages/pandas/core/frame.py:4133: SettingWithCopyWarning: \n",
      "A value is trying to be set on a copy of a slice from a DataFrame\n",
      "\n",
      "See the caveats in the documentation: https://pandas.pydata.org/pandas-docs/stable/user_guide/indexing.html#returning-a-view-versus-a-copy\n",
      "  errors=errors,\n"
     ]
    }
   ],
   "source": [
    "new_anno_df.rename(columns={\"image_new_id\":\"image_id\", \"caption_new_id\":\"caption_id\", \"caption\":\"caption_tokens\"}, inplace=True)\n",
    "new_val_anno_df.rename(columns={\"image_new_id\":\"image_id\", \"caption_new_id\":\"caption_id\", \"caption\":\"caption_tokens\"}, inplace=True)"
   ]
  },
  {
   "cell_type": "code",
   "execution_count": 200,
   "metadata": {},
   "outputs": [
    {
     "data": {
      "text/plain": [
       "Index(['image_name', 'image_id', 'feature_path', 'caption_id', 'caption_str',\n",
       "       'caption_tokens', 'reference_tokens'],\n",
       "      dtype='object')"
      ]
     },
     "execution_count": 200,
     "metadata": {},
     "output_type": "execute_result"
    }
   ],
   "source": [
    "new_anno_df.keys()"
   ]
  },
  {
   "cell_type": "code",
   "execution_count": 260,
   "metadata": {},
   "outputs": [],
   "source": [
    "# train 데이터 합치기\n",
    "# imdb_vizwiz_train = np.concatenate([imdb_train,new_anno_df.to_dict('records')])\n",
    "# imdb_vizwiz_val = np.concatenate([imdb_val, new_val_anno_df[20000:].to_dict('records')])\n",
    "imdb_vizwiz_val = np.concatenate([imdb_val])\n",
    "# imdb_vizwiz_test = np.concatenate([imdb_test, new_val_anno_df[-100:].to_dict('records')])"
   ]
  },
  {
   "cell_type": "code",
   "execution_count": 257,
   "metadata": {},
   "outputs": [
    {
     "data": {
      "text/plain": [
       "((414114,), (5001,), (5001,))"
      ]
     },
     "execution_count": 257,
     "metadata": {},
     "output_type": "execute_result"
    }
   ],
   "source": [
    "imdb_train.shape, imdb_val.shape, imdb_test.shape"
   ]
  },
  {
   "cell_type": "code",
   "execution_count": 258,
   "metadata": {},
   "outputs": [
    {
     "data": {
      "text/plain": [
       "((531269,), (23751,), (5101,))"
      ]
     },
     "execution_count": 258,
     "metadata": {},
     "output_type": "execute_result"
    }
   ],
   "source": [
    "imdb_vizwiz_train.shape, imdb_vizwiz_val.shape, imdb_vizwiz_test.shape"
   ]
  },
  {
   "cell_type": "code",
   "execution_count": 263,
   "metadata": {},
   "outputs": [
    {
     "data": {
      "text/plain": [
       "(1617.6328125, 2075.26953125)"
      ]
     },
     "execution_count": 263,
     "metadata": {},
     "output_type": "execute_result"
    }
   ],
   "source": [
    "414114 / 256, 531269/256"
   ]
  },
  {
   "cell_type": "code",
   "execution_count": 261,
   "metadata": {},
   "outputs": [],
   "source": [
    "# glob(\"./data/imdb/coco_captions/imdb_karpathy_train.npy\")\n",
    "# np.save(\"./data/imdb/coco_captions/imdb_vizwiz_train.npy\", imdb_vizwiz_train, allow_pickle=True)\n",
    "# np.save(\"./data/imdb/coco_captions/imdb_vizwiz_test.npy\", imdb_vizwiz_test, allow_pickle=True)\n",
    "np.save(\"./data/imdb/coco_captions/imdb_vizwiz_val.npy\", imdb_vizwiz_val, allow_pickle=True)"
   ]
  },
  {
   "cell_type": "code",
   "execution_count": 247,
   "metadata": {},
   "outputs": [],
   "source": [
    "# np.save(\"./data/imdb/coco_captions/imdb_vizwiz_train.npy\", imdb_vizwiz_train, allow_pickle=True)\n",
    "saved_imdb_vizwiz_test = np.load(\"./data/imdb/coco_captions/imdb_vizwiz_test.npy\", allow_pickle=True)\n",
    "saved_imdb_vizwiz_val = np.load(\"./data/imdb/coco_captions/imdb_vizwiz_val.npy\", allow_pickle=True)"
   ]
  },
  {
   "cell_type": "code",
   "execution_count": 248,
   "metadata": {},
   "outputs": [
    {
     "data": {
      "text/plain": [
       "array([{'image_name': 'COCO_val2014_000000324313', 'image_id': 40371, 'feature_path': 'COCO_val2014_000000324313.npy', 'caption_id': 536923, 'caption_str': 'A hospital bed that is in a hospital.', 'caption_tokens': ['<s>', 'a', 'hospital', 'bed', 'that', 'is', 'in', 'a', 'hospital', '</s>'], 'reference_tokens': [['<s>', 'a', 'hospital', 'bed', 'that', 'is', 'in', 'a', 'hospital', '</s>'], ['<s>', 'a', 'hospital', 'bed', 'with', 'wheels', 'and', 'a', 'pillow', 'in', 'a', 'hallway', '</s>'], ['<s>', 'the', 'hospital', 'bed', 'is', 'metal', 'and', 'has', 'wheels', '</s>'], ['<s>', 'a', 'hospital', 'bed', 'laying', 'flat', 'on', 'the', 'hard', 'floor', '</s>'], ['<s>', 'a', 'white', 'hospital', 'bed', 'sitting', 'up', 'against', 'a', 'wall', 'in', 'a', 'hallway', '</s>']]},\n",
       "       {'image_name': 'COCO_val2014_000000046616', 'image_id': 40373, 'feature_path': 'COCO_val2014_000000046616.npy', 'caption_id': 576716, 'caption_str': 'The two surfers are ready to go out on the water', 'caption_tokens': ['<s>', 'the', 'two', 'surfers', 'are', 'ready', 'to', 'go', 'out', 'on', 'the', 'water', '</s>'], 'reference_tokens': [['<s>', 'the', 'two', 'surfers', 'are', 'ready', 'to', 'go', 'out', 'on', 'the', 'water', '</s>'], ['<s>', 'two', 'women', 'by', 'the', 'ocean', 'in', 'front', 'of', 'a', 'surf', 'board', '</s>'], ['<s>', 'a', 'couple', 'of', 'people', 'on', 'a', 'beach', 'with', 'a', 'surfboard', '</s>'], ['<s>', 'two', 'women', 'who', 'are', 'standing', 'in', 'the', 'sand', 'near', 'a', 'surfboard', '</s>'], ['<s>', 'a', 'couple', 'of', 'people', 'are', 'standing', 'with', 'a', 'surfboard', '</s>']]},\n",
       "       {'image_name': 'COCO_val2014_000000285832', 'image_id': 40398, 'feature_path': 'COCO_val2014_000000285832.npy', 'caption_id': 697312, 'caption_str': 'this living room has black leather couches and a wood coffee table', 'caption_tokens': ['<s>', 'this', 'living', 'room', 'has', 'black', 'leather', 'couches', 'and', 'a', 'wood', 'coffee', 'table', '</s>'], 'reference_tokens': [['<s>', 'this', 'living', 'room', 'has', 'black', 'leather', 'couches', 'and', 'a', 'wood', 'coffee', 'table', '</s>'], ['<s>', 'a', 'living', 'room', 'filled', 'with', 'black', 'leather', 'furniture', '</s>'], ['<s>', 'the', 'living', 'room', 'and', 'dining', 'room', 'of', 'a', 'house', '</s>'], ['<s>', 'a', 'small', 'living', 'room', 'has', 'black', 'leather', 'couches', '</s>'], ['<s>', 'a', 'living', 'room', 'with', 'black', 'leather', 'furniture', 'and', 'chairs', '</s>']]},\n",
       "       {'image_name': 'COCO_val2014_000000496718', 'image_id': 40404, 'feature_path': 'COCO_val2014_000000496718.npy', 'caption_id': 442009, 'caption_str': 'A person standing in a living room, playing a video game using a remote.', 'caption_tokens': ['<s>', 'a', 'person', 'standing', 'in', 'a', 'living', 'room', 'playing', 'a', 'video', 'game', 'using', 'a', 'remote', '</s>'], 'reference_tokens': [['<s>', 'a', 'person', 'standing', 'in', 'a', 'living', 'room', 'playing', 'a', 'video', 'game', 'using', 'a', 'remote', '</s>'], ['<s>', 'a', 'woman', 'in', 'a', 'living', 'room', 'playing', 'a', 'game', 'system', '</s>'], ['<s>', 'a', 'lady', 'standing', 'in', 'a', 'living', 'room', 'playing', 'a', 'video', 'game', '</s>'], ['<s>', 'a', 'woman', 'standing', 'in', 'a', 'living', 'room', 'bare', 'foot', '</s>'], ['<s>', 'a', 'girl', 'playing', 'with', 'a', 'controller', 'for', 'the', 'game', 'system', 'wii', '</s>']]},\n",
       "       {'image_name': 'COCO_val2014_000000398209', 'image_id': 40411, 'feature_path': 'COCO_val2014_000000398209.npy', 'caption_id': 13906, 'caption_str': 'A baby crib is in the living room under the television.', 'caption_tokens': ['<s>', 'a', 'baby', 'crib', 'is', 'in', 'the', 'living', 'room', 'under', 'the', 'television', '</s>'], 'reference_tokens': [['<s>', 'a', 'baby', 'crib', 'is', 'in', 'the', 'living', 'room', 'under', 'the', 'television', '</s>'], ['<s>', 'a', 'living', 'room', 'with', 'gold', 'walls', 'has', 'a', 'playpen', 'and', 'mounted', 'television', '</s>'], ['<s>', 'a', 'living', 'room', 'contains', 'various', 'baby', 'objects', 'and', 'a', 'tv', '</s>'], ['<s>', 'a', 'living', 'room', 'filled', 'with', 'a', 'baby', 'play', 'pen', 'flat', 'screen', 'tv', 'and', 'furniture', '</s>'], ['<s>', 'half', 'of', 'a', 'new', 'parents', 'living', 'room', 'during', 'the', 'day', '</s>']]},\n",
       "       {'image_name': 'COCO_val2014_000000568041', 'image_id': 40413, 'feature_path': 'COCO_val2014_000000568041.npy', 'caption_id': 281923, 'caption_str': 'A living room view of a couch, mirror, and vases.', 'caption_tokens': ['<s>', 'a', 'living', 'room', 'view', 'of', 'a', 'couch', 'mirror', 'and', 'vases', '</s>'], 'reference_tokens': [['<s>', 'a', 'living', 'room', 'view', 'of', 'a', 'couch', 'mirror', 'and', 'vases', '</s>'], ['<s>', 'a', 'living', 'area', 'with', 'a', 'sofa', 'mirror', 'and', 'lamps', '</s>'], ['<s>', 'a', 'white', 'couch', 'sitting', 'in', 'a', 'living', 'room', 'next', 'to', 'a', 'mirror', '</s>'], ['<s>', 'a', 'sectional', 'sofa', 'in', 'a', 'front', 'room', 'with', 'a', 'bookshelf', 'and', 'mirror', 'with', 'two', 'floor', 'lamps', 'and', 'two', 'vases', 'of', 'flowers', 'on', 'either', 'side', '</s>'], ['<s>', 'a', 'living', 'room', 'couch', 'with', 'a', 'display', 'of', 'large', 'mirror', 'and', 'flowers', '</s>']]},\n",
       "       {'image_name': 'COCO_val2014_000000206596', 'image_id': 40438, 'feature_path': 'COCO_val2014_000000206596.npy', 'caption_id': 129292, 'caption_str': 'A young boy taking a swing at  a ball', 'caption_tokens': ['<s>', 'a', 'young', 'boy', 'taking', 'a', 'swing', 'at', 'a', 'ball', '</s>'], 'reference_tokens': [['<s>', 'a', 'young', 'boy', 'taking', 'a', 'swing', 'at', 'a', 'ball', '</s>'], ['<s>', 'a', 'kid', 'in', 'a', 'baseball', 'uniform', 'holding', 'a', 'baseball', 'bat', '</s>'], ['<s>', 'a', 'young', 'player', 'is', 'swing', 'his', 'bat', 'at', 'a', 'pitch', '</s>'], ['<s>', 'a', 'boy', 'is', 'swinging', 'a', 'baseball', 'bat', 'during', 'a', 'game', '</s>'], ['<s>', 'a', 'young', 'man', 'swinging', 'a', 'bat', 'during', 'a', 'ball', 'game', '</s>']]},\n",
       "       {'image_name': 'COCO_val2014_000000451949', 'image_id': 40453, 'feature_path': 'COCO_val2014_000000451949.npy', 'caption_id': 56860, 'caption_str': 'Two women are standing on a tennis court holding rackets.', 'caption_tokens': ['<s>', 'two', 'women', 'are', 'standing', 'on', 'a', 'tennis', 'court', 'holding', 'rackets', '</s>'], 'reference_tokens': [['<s>', 'two', 'women', 'are', 'standing', 'on', 'a', 'tennis', 'court', 'holding', 'rackets', '</s>'], ['<s>', 'an', 'old', 'photo', 'of', 'two', 'people', 'holding', 'tennis', 'rackets', '</s>'], ['<s>', 'a', 'pair', 'of', 'tennis', 'players', 'smile', 'in', 'an', 'historical', 'photo', '</s>'], ['<s>', 'two', 'women', 'standing', 'together', 'while', 'holding', 'onto', 'tennis', 'rackets', '</s>'], ['<s>', 'two', 'women', 'with', 'tennis', 'rackets', 'are', 'posing', 'for', 'a', 'picture', '</s>']]},\n",
       "       {'image_name': 'COCO_val2014_000000203138', 'image_id': 40473, 'feature_path': 'COCO_val2014_000000203138.npy', 'caption_id': 459583, 'caption_str': 'A person and a kid on top of a refrigerator', 'caption_tokens': ['<s>', 'a', 'person', 'and', 'a', 'kid', 'on', 'top', 'of', 'a', 'refrigerator', '</s>'], 'reference_tokens': [['<s>', 'a', 'person', 'and', 'a', 'kid', 'on', 'top', 'of', 'a', 'refrigerator', '</s>'], ['<s>', 'the', 'man', 'looks', 'up', 'at', 'a', 'small', 'child', 'sitting', 'on', 'a', 'refrigerator', '</s>'], ['<s>', 'a', 'baby', 'is', 'sitting', 'on', 'top', 'of', 'a', 'fridge', 'while', 'a', 'man', 'looks', 'at', 'her', '</s>'], ['<s>', 'a', 'man', 'standing', 'in', 'front', 'of', 'a', 'metallic', 'refrigerator', 'freezer', 'with', 'a', 'baby', 'on', 'top', 'of', 'it', '</s>'], ['<s>', 'a', 'man', 'standing', 'by', 'a', 'refrigerator', 'with', 'a', 'baby', 'sitting', 'on', 'top', 'of', 'it', '</s>']]},\n",
       "       {'image_name': 'COCO_val2014_000000296759', 'image_id': 40482, 'feature_path': 'COCO_val2014_000000296759.npy', 'caption_id': 180764, 'caption_str': 'A brown teddy bear wearing a Hawaiian shirt next to another teddy bear.', 'caption_tokens': ['<s>', 'a', 'brown', 'teddy', 'bear', 'wearing', 'a', 'hawaiian', 'shirt', 'next', 'to', 'another', 'teddy', 'bear', '</s>'], 'reference_tokens': [['<s>', 'a', 'brown', 'teddy', 'bear', 'wearing', 'a', 'hawaiian', 'shirt', 'next', 'to', 'another', 'teddy', 'bear', '</s>'], ['<s>', 'two', 'stuffed', 'bears', 'next', 'to', 'each', 'other', 'one', 'with', 'a', 'hawaiian', 'shirt', '</s>'], ['<s>', 'two', 'teddy', 'bears', 'pose', 'for', 'a', 'picture', 'together', '</s>'], ['<s>', 'a', 'store', 'features', 'many', 'types', 'of', 'teddy', 'bears', 'with', 'various', 'outfits', '</s>'], ['<s>', 'a', 'large', 'and', 'a', 'small', 'teddy', 'bear', 'at', 'the', 'teddy', 'bear', 'museum', '</s>']]}],\n",
       "      dtype=object)"
      ]
     },
     "execution_count": 248,
     "metadata": {},
     "output_type": "execute_result"
    }
   ],
   "source": [
    "saved_imdb_vizwiz_val[-10:]"
   ]
  },
  {
   "cell_type": "code",
   "execution_count": null,
   "metadata": {},
   "outputs": [],
   "source": []
  },
  {
   "cell_type": "code",
   "execution_count": null,
   "metadata": {},
   "outputs": [],
   "source": []
  },
  {
   "cell_type": "code",
   "execution_count": null,
   "metadata": {},
   "outputs": [],
   "source": []
  },
  {
   "cell_type": "code",
   "execution_count": null,
   "metadata": {},
   "outputs": [],
   "source": []
  },
  {
   "cell_type": "code",
   "execution_count": 223,
   "metadata": {},
   "outputs": [
    {
     "name": "stdout",
     "output_type": "stream",
     "text": [
      "total 324404\n",
      "drwxr-xr-x 2 root root       208 Apr  8 10:15 .\n",
      "drwxr-xr-x 5 root root       124 Apr  8 03:17 ..\n",
      "-rw-r--r-- 1 root root   4481937 Mar 19 10:47 imdb_karpathy_test.npy\n",
      "-rw-r--r-- 1 root root 124458897 Mar 19 10:47 imdb_karpathy_train.npy\n",
      "-rw-r--r-- 1 root root   4487529 Mar 19 10:47 imdb_karpathy_val.npy\n",
      "-rw-r--r-- 1 root root   4536482 Apr  8 10:15 imdb_vizwiz_test.npy\n",
      "-rw-r--r-- 1 root root 168654863 Apr  8 10:15 imdb_vizwiz_train.npy\n",
      "-rw-r--r-- 1 root root  25555472 Apr  8 10:15 imdb_vizwiz_val.npy\n"
     ]
    }
   ],
   "source": [
    "!ls -al ./data/imdb/coco_captions/"
   ]
  },
  {
   "cell_type": "code",
   "execution_count": 205,
   "metadata": {},
   "outputs": [
    {
     "data": {
      "text/plain": [
       "array([{'image_name': 'COCO_train2014_000000475546', 'image_id': 123286, 'feature_path': 'COCO_train2014_000000475546.npy', 'caption_id': 9277, 'caption_str': 'Three women and a man are sitting at a bar', 'caption_tokens': ['<s>', 'three', 'women', 'and', 'a', 'man', 'are', 'sitting', 'at', 'a', 'bar', '</s>'], 'reference_tokens': [['<s>', 'the', 'patrons', 'enjoy', 'their', 'beverages', 'at', 'the', 'bar', '</s>'], ['<s>', 'people', 'having', 'a', 'drink', 'in', 'a', 'basement', 'bar', '</s>'], ['<s>', 'a', 'group', 'of', 'friends', 'enjoys', 'a', 'drink', 'while', 'sitting', 'at', 'a', 'bar', '</s>'], ['<s>', 'group', 'of', 'people', 'drinking', 'wine', 'at', 'a', 'public', 'location', '</s>'], ['<s>', 'three', 'women', 'and', 'a', 'man', 'are', 'sitting', 'at', 'a', 'bar', '</s>']]},\n",
       "       {'image_name': 'VizWiz_train_00000000', 'image_id': 123287, 'feature_path': 'VizWiz_train_00000000.npy', 'caption_id': 829720, 'caption_str': 'ITS IS A BASIL LEAVES CONTAINER ITS CONTAINS THE NET WEIGHT TOO.', 'caption_tokens': ['<s>', 'ITS', 'IS', 'A', 'BASIL', 'LEAVES', 'CONTAINER', 'ITS', 'CONTAINS', 'THE', 'NET', 'WEIGHT', 'TOO.', '</s>'], 'reference_tokens': [['<s>', 'ITS', 'IS', 'A', 'BASIL', 'LEAVES', 'CONTAINER', 'ITS', 'CONTAINS', 'THE', 'NET', 'WEIGHT', 'TOO.', '</s>'], ['<s>', 'A', 'green', 'and', 'white', 'plastic', 'condiment', 'bottle', 'containing', 'Basil', 'leaves.', '</s>'], ['<s>', 'Quality', 'issues', 'are', 'too', 'severe', 'to', 'recognize', 'visual', 'content.', '</s>'], ['<s>', 'A', 'bottle', 'of', 'spices', 'in', 'a', 'plastic', 'container', 'laying', 'on', 'a', 'surface.', '</s>'], ['<s>', 'some', 'basil', 'leaves', 'in', 'a', 'container', 'on', 'a', 'counter', '</s>']]}],\n",
       "      dtype=object)"
      ]
     },
     "execution_count": 205,
     "metadata": {},
     "output_type": "execute_result"
    }
   ],
   "source": [
    "imdb_vizwiz_train[414113:414115]"
   ]
  },
  {
   "cell_type": "code",
   "execution_count": 224,
   "metadata": {},
   "outputs": [
    {
     "data": {
      "text/plain": [
       "array([{'image_name': 'COCO_val2014_000000074478', 'image_id': 40503, 'feature_path': 'COCO_val2014_000000074478.npy', 'caption_id': 646298, 'caption_str': 'a man in glasses is holding a wine glass', 'caption_tokens': ['<s>', 'a', 'man', 'in', 'glasses', 'is', 'holding', 'a', 'wine', 'glass', '</s>'], 'reference_tokens': [['<s>', 'a', 'man', 'in', 'glasses', 'is', 'holding', 'a', 'wine', 'glass', '</s>'], ['<s>', 'a', 'man', 'holds', 'a', 'glass', 'in', 'aroom', 'with', 'many', 'other', 'people', '</s>'], ['<s>', 'a', 'man', 'holds', 'a', 'glass', 'as', 'others', 'mill', 'around', 'behind', 'him', '</s>'], ['<s>', 'a', 'group', 'of', 'people', 'standing', 'around', 'in', 'a', 'room', '</s>'], ['<s>', 'a', 'man', 'holding', 'a', 'glass', 'speaking', 'to', 'someone', '</s>']]},\n",
       "       {'image_name': 'VizWiz_val_00007730', 'image_id': 71644, 'feature_path': 'VizWiz_val_00007730.npy', 'caption_id': 985226, 'caption_str': 'Side of a box of Green Mountain Coffee brand Keurig cups.', 'caption_tokens': ['<s>', 'Side', 'of', 'a', 'box', 'of', 'Green', 'Mountain', 'Coffee', 'brand', 'Keurig', 'cups.', '</s>'], 'reference_tokens': [['<s>', 'Black', 'leather', 'case', 'on', 'top', 'of', 'a', 'wooden', 'table', '</s>'], ['<s>', 'an', 'embroidered', 'black', 'wallet', 'on', 'a', '', 'table', 'with', 'some', 'papers', '</s>'], ['<s>', 'Pictured', 'is', 'the', 'top', 'of', 'a', 'desk', 'with', 'papers', 'and', 'a', 'black', 'case.', '</s>'], ['<s>', 'LIKE', 'AS', 'A', 'POUCH', 'IS', 'PLACED', 'ON', 'THE', 'TABLE', '</s>'], ['<s>', 'a', 'phone', 'case', 'that', 'is', 'black', 'with', 'blue', 'stripes', 'on', 'it', '</s>']]}],\n",
       "      dtype=object)"
      ]
     },
     "execution_count": 224,
     "metadata": {},
     "output_type": "execute_result"
    }
   ],
   "source": [
    "imdb_vizwiz_test[5000:5002]"
   ]
  },
  {
   "cell_type": "code",
   "execution_count": 206,
   "metadata": {},
   "outputs": [
    {
     "data": {
      "text/plain": [
       "dict_keys(['image_name', 'image_id', 'feature_path', 'caption_id', 'caption_str', 'caption_tokens', 'reference_tokens'])"
      ]
     },
     "execution_count": 206,
     "metadata": {},
     "output_type": "execute_result"
    }
   ],
   "source": [
    "a = {'image_name': 'COCO_train2014_000000475546', 'image_id': 123286, 'feature_path': 'COCO_train2014_000000475546.npy', 'caption_id': 9277, 'caption_str': 'Three women and a man are sitting at a bar', 'caption_tokens': ['<s>', 'three', 'women', 'and', 'a', 'man', 'are', 'sitting', 'at', 'a', 'bar', '</s>'], 'reference_tokens': [['<s>', 'the', 'patrons', 'enjoy', 'their', 'beverages', 'at', 'the', 'bar', '</s>'], ['<s>', 'people', 'having', 'a', 'drink', 'in', 'a', 'basement', 'bar', '</s>'], ['<s>', 'a', 'group', 'of', 'friends', 'enjoys', 'a', 'drink', 'while', 'sitting', 'at', 'a', 'bar', '</s>'], ['<s>', 'group', 'of', 'people', 'drinking', 'wine', 'at', 'a', 'public', 'location', '</s>'], ['<s>', 'three', 'women', 'and', 'a', 'man', 'are', 'sitting', 'at', 'a', 'bar', '</s>']]}\n",
    "a.keys()"
   ]
  },
  {
   "cell_type": "code",
   "execution_count": 207,
   "metadata": {},
   "outputs": [
    {
     "data": {
      "text/plain": [
       "dict_keys(['image_name', 'image_id', 'feature_path', 'caption_id', 'caption_str', 'caption_tokens', 'reference_tokens'])"
      ]
     },
     "execution_count": 207,
     "metadata": {},
     "output_type": "execute_result"
    }
   ],
   "source": [
    "b = {'image_name': 'VizWiz_train_00000000', 'image_id': 123287, 'feature_path': 'VizWiz_train_00000000.npy', 'caption_id': 829720, 'caption_str': 'ITS IS A BASIL LEAVES CONTAINER ITS CONTAINS THE NET WEIGHT TOO.', 'caption_tokens': ['<s>', 'ITS', 'IS', 'A', 'BASIL', 'LEAVES', 'CONTAINER', 'ITS', 'CONTAINS', 'THE', 'NET', 'WEIGHT', 'TOO.', '</s>'], 'reference_tokens': [['<s>', 'ITS', 'IS', 'A', 'BASIL', 'LEAVES', 'CONTAINER', 'ITS', 'CONTAINS', 'THE', 'NET', 'WEIGHT', 'TOO.', '</s>'], ['<s>', 'A', 'green', 'and', 'white', 'plastic', 'condiment', 'bottle', 'containing', 'Basil', 'leaves.', '</s>'], ['<s>', 'Quality', 'issues', 'are', 'too', 'severe', 'to', 'recognize', 'visual', 'content.', '</s>'], ['<s>', 'A', 'bottle', 'of', 'spices', 'in', 'a', 'plastic', 'container', 'laying', 'on', 'a', 'surface.', '</s>'], ['<s>', 'some', 'basil', 'leaves', 'in', 'a', 'container', 'on', 'a', 'counter', '</s>']]}\n",
    "b.keys()"
   ]
  },
  {
   "cell_type": "code",
   "execution_count": 211,
   "metadata": {},
   "outputs": [
    {
     "data": {
      "text/plain": [
       "array([{'image_name': 'COCO_val2014_000000296759', 'image_id': 40482, 'feature_path': 'COCO_val2014_000000296759.npy', 'caption_id': 180764, 'caption_str': 'A brown teddy bear wearing a Hawaiian shirt next to another teddy bear.', 'caption_tokens': ['<s>', 'a', 'brown', 'teddy', 'bear', 'wearing', 'a', 'hawaiian', 'shirt', 'next', 'to', 'another', 'teddy', 'bear', '</s>'], 'reference_tokens': [['<s>', 'a', 'brown', 'teddy', 'bear', 'wearing', 'a', 'hawaiian', 'shirt', 'next', 'to', 'another', 'teddy', 'bear', '</s>'], ['<s>', 'two', 'stuffed', 'bears', 'next', 'to', 'each', 'other', 'one', 'with', 'a', 'hawaiian', 'shirt', '</s>'], ['<s>', 'two', 'teddy', 'bears', 'pose', 'for', 'a', 'picture', 'together', '</s>'], ['<s>', 'a', 'store', 'features', 'many', 'types', 'of', 'teddy', 'bears', 'with', 'various', 'outfits', '</s>'], ['<s>', 'a', 'large', 'and', 'a', 'small', 'teddy', 'bear', 'at', 'the', 'teddy', 'bear', 'museum', '</s>']]},\n",
       "       {'image_name': 'VizWiz_val_00000000', 'image_id': 63914, 'feature_path': 'VizWiz_val_00000000.npy', 'caption_id': 946576, 'caption_str': 'A computer screen shows a repair prompt on the screen.', 'caption_tokens': ['<s>', 'A', 'computer', 'screen', 'shows', 'a', 'repair', 'prompt', 'on', 'the', 'screen.', '</s>'], 'reference_tokens': [['<s>', 'ITS', 'IS', 'A', 'BASIL', 'LEAVES', 'CONTAINER', 'ITS', 'CONTAINS', 'THE', 'NET', 'WEIGHT', 'TOO.', '</s>'], ['<s>', 'A', 'green', 'and', 'white', 'plastic', 'condiment', 'bottle', 'containing', 'Basil', 'leaves.', '</s>'], ['<s>', 'Quality', 'issues', 'are', 'too', 'severe', 'to', 'recognize', 'visual', 'content.', '</s>'], ['<s>', 'A', 'bottle', 'of', 'spices', 'in', 'a', 'plastic', 'container', 'laying', 'on', 'a', 'surface.', '</s>'], ['<s>', 'some', 'basil', 'leaves', 'in', 'a', 'container', 'on', 'a', 'counter', '</s>']]}],\n",
       "      dtype=object)"
      ]
     },
     "execution_count": 211,
     "metadata": {},
     "output_type": "execute_result"
    }
   ],
   "source": [
    "imdb_vizwiz_val[5000:5002]"
   ]
  },
  {
   "cell_type": "code",
   "execution_count": 212,
   "metadata": {},
   "outputs": [
    {
     "data": {
      "text/plain": [
       "dict_keys(['image_name', 'image_id', 'feature_path', 'caption_id', 'caption_str', 'caption_tokens', 'reference_tokens'])"
      ]
     },
     "execution_count": 212,
     "metadata": {},
     "output_type": "execute_result"
    }
   ],
   "source": [
    "a = {'image_name': 'COCO_val2014_000000296759', 'image_id': 40482, 'feature_path': 'COCO_val2014_000000296759.npy', 'caption_id': 180764, 'caption_str': 'A brown teddy bear wearing a Hawaiian shirt next to another teddy bear.', 'caption_tokens': ['<s>', 'a', 'brown', 'teddy', 'bear', 'wearing', 'a', 'hawaiian', 'shirt', 'next', 'to', 'another', 'teddy', 'bear', '</s>'], 'reference_tokens': [['<s>', 'a', 'brown', 'teddy', 'bear', 'wearing', 'a', 'hawaiian', 'shirt', 'next', 'to', 'another', 'teddy', 'bear', '</s>'], ['<s>', 'two', 'stuffed', 'bears', 'next', 'to', 'each', 'other', 'one', 'with', 'a', 'hawaiian', 'shirt', '</s>'], ['<s>', 'two', 'teddy', 'bears', 'pose', 'for', 'a', 'picture', 'together', '</s>'], ['<s>', 'a', 'store', 'features', 'many', 'types', 'of', 'teddy', 'bears', 'with', 'various', 'outfits', '</s>'], ['<s>', 'a', 'large', 'and', 'a', 'small', 'teddy', 'bear', 'at', 'the', 'teddy', 'bear', 'museum', '</s>']]}\n",
    "a.keys()"
   ]
  },
  {
   "cell_type": "code",
   "execution_count": 213,
   "metadata": {},
   "outputs": [
    {
     "data": {
      "text/plain": [
       "dict_keys(['image_name', 'image_id', 'feature_path', 'caption_id', 'caption_str', 'caption_tokens', 'reference_tokens'])"
      ]
     },
     "execution_count": 213,
     "metadata": {},
     "output_type": "execute_result"
    }
   ],
   "source": [
    "b = {'image_name': 'VizWiz_val_00000000', 'image_id': 63914, 'feature_path': 'VizWiz_val_00000000.npy', 'caption_id': 946576, 'caption_str': 'A computer screen shows a repair prompt on the screen.', 'caption_tokens': ['<s>', 'A', 'computer', 'screen', 'shows', 'a', 'repair', 'prompt', 'on', 'the', 'screen.', '</s>'], 'reference_tokens': [['<s>', 'ITS', 'IS', 'A', 'BASIL', 'LEAVES', 'CONTAINER', 'ITS', 'CONTAINS', 'THE', 'NET', 'WEIGHT', 'TOO.', '</s>'], ['<s>', 'A', 'green', 'and', 'white', 'plastic', 'condiment', 'bottle', 'containing', 'Basil', 'leaves.', '</s>'], ['<s>', 'Quality', 'issues', 'are', 'too', 'severe', 'to', 'recognize', 'visual', 'content.', '</s>'], ['<s>', 'A', 'bottle', 'of', 'spices', 'in', 'a', 'plastic', 'container', 'laying', 'on', 'a', 'surface.', '</s>'], ['<s>', 'some', 'basil', 'leaves', 'in', 'a', 'container', 'on', 'a', 'counter', '</s>']]}\n",
    "b.keys()"
   ]
  },
  {
   "cell_type": "code",
   "execution_count": null,
   "metadata": {},
   "outputs": [],
   "source": []
  },
  {
   "cell_type": "code",
   "execution_count": 226,
   "metadata": {},
   "outputs": [],
   "source": [
    "#1 error case\n",
    "# IndexError: index 52 is out of bounds for dimension 1 with size 52\n",
    "#  File \"/tf/notebooks/jwhwang/vqa/mypythia/pythia/models/butd.py\", line 137, in forward\n",
    "#    pi_t = data[\"texts\"][:, t].unsqueeze(-1)\n",
    "\n",
    "test_np = np.load(\"./data/coco/detectron_fix_100/fc6/train_val_2014/VizWiz_val_00005134.npy\", allow_pickle=True)"
   ]
  },
  {
   "cell_type": "code",
   "execution_count": 227,
   "metadata": {},
   "outputs": [
    {
     "data": {
      "text/plain": [
       "(100, 2048)"
      ]
     },
     "execution_count": 227,
     "metadata": {},
     "output_type": "execute_result"
    }
   ],
   "source": [
    "test_np.shape"
   ]
  },
  {
   "cell_type": "code",
   "execution_count": 228,
   "metadata": {},
   "outputs": [],
   "source": [
    "sample_data = {'image_name': 'VizWiz_val_00005134', 'image_id': 69048, 'feature_path': 'VizWiz_val_00005134.npy', 'caption_id': 972246, 'caption_str': 'A bottle of Ovation Creme Rinse Moisturizer product.', 'caption_tokens': ['<s>', 'A', 'bottle', 'of', 'Ovation', 'Creme', 'Rinse', 'Moisturizer', 'product.', '</s>'], 'reference_tokens': [['<s>', 'a', 'single', 'green', 'can', 'of', 'food', 'on', 'a', 'counter', 'top', '</s>'], ['<s>', 'the', 'back', 'of', 'a', 'canned', 'good', 'item', 'with', 'a', 'recipe', 'shown', '</s>'], ['<s>', 'A', 'can', 'of', 'peas', 'lying', 'on', 'a', 'wooden', 'countertop.', '</s>'], ['<s>', 'In', 'this', 'photo', 'is', 'a', 'can', 'showing', 'the', 'back', 'label', 'recipe', 'for', 'peas', 'and', 'sweet', 'pepper', 'pasta.', '</s>'], ['<s>', 'A', 'can', 'of', 'peas', 'sitting', 'on', 'a', 'counter.', '</s>']]}"
   ]
  },
  {
   "cell_type": "code",
   "execution_count": 231,
   "metadata": {},
   "outputs": [],
   "source": [
    "test = [['<s>', 'a', 'single', 'green', 'can', 'of', 'food', 'on', 'a', 'counter', 'top', '</s>'], ['<s>', 'the', 'back', 'of', 'a', 'canned', 'good', 'item', 'with', 'a', 'recipe', 'shown', '</s>'], ['<s>', 'A', 'can', 'of', 'peas', 'lying', 'on', 'a', 'wooden', 'countertop.', '</s>'], ['<s>', 'In', 'this', 'photo', 'is', 'a', 'can', 'showing', 'the', 'back', 'label', 'recipe', 'for', 'peas', 'and', 'sweet', 'pepper', 'pasta.', '</s>'], ['<s>', 'A', 'can', 'of', 'peas', 'sitting', 'on', 'a', 'counter.', '</s>']]"
   ]
  },
  {
   "cell_type": "code",
   "execution_count": 233,
   "metadata": {},
   "outputs": [],
   "source": [
    "a = [[   1,    3,  126,    6,  967,    3,  433,  561,    3,    4,  205, 3255,\n",
    "            6,   63,  282, 2424,    3,    6,    3, 2984, 4187,   35,    3,    4,\n",
    "         1202,  205,    3,   64,   26,    3,    4,  205,   40,  105,    6,    4,\n",
    "          477,   89, 3093,   35,    4,    7,    3,   31,    4, 3055, 1733,  105,\n",
    "           38,  239,   17, 1370]]"
   ]
  },
  {
   "cell_type": "code",
   "execution_count": 236,
   "metadata": {},
   "outputs": [
    {
     "data": {
      "text/plain": [
       "52"
      ]
     },
     "execution_count": 236,
     "metadata": {},
     "output_type": "execute_result"
    }
   ],
   "source": [
    "len(a[0])"
   ]
  },
  {
   "cell_type": "code",
   "execution_count": 237,
   "metadata": {},
   "outputs": [],
   "source": [
    "a = [[   1,    3,  126,    6,  967,    3,  433,  561,    3,    4,  205, 3255,\n",
    "            6,   63,  282, 2424,    3,    6,    3, 2984, 4187,   35,    3,    4,\n",
    "         1202,  205,    3,   64,   26,    3,    4,  205,   40,  105,    6,    4,\n",
    "          477,   89, 3093,   35,    4,    7,    3,   31,    4, 3055, 1733,  105,\n",
    "           38,  239,   17, 1370]]"
   ]
  },
  {
   "cell_type": "code",
   "execution_count": 238,
   "metadata": {},
   "outputs": [
    {
     "data": {
      "text/plain": [
       "52"
      ]
     },
     "execution_count": 238,
     "metadata": {},
     "output_type": "execute_result"
    }
   ],
   "source": [
    "len(a[0])"
   ]
  },
  {
   "cell_type": "code",
   "execution_count": 239,
   "metadata": {},
   "outputs": [],
   "source": [
    "a = [[   1,    3,  827,  312,    4,    3,    3,    3,    3, 8235,    9,   17,\n",
    "          492,    6,    4,  672,   20, 1695,   82,   17,  249,   31,    4, 1263,\n",
    "         6811,   82,   17,  381,   40,   20,   17,    3,    2,    0,    0,    0,\n",
    "            0,    0,    0,    0,    0,    0,    0,    0,    0,    0,    0,    0,\n",
    "            0,    0,    0,    0],\n",
    "        [   1,    3, 1606,    6,  386, 7011, 1459,  837,    4,  123,    6,    4,\n",
    "            3,  170,  402,  205, 4365,  182,    9,    4,  190,   82,   17,  659,\n",
    "           20,   17, 1606,    2,    0,    0,    0,    0,    0,    0,    0,    0,\n",
    "            0,    0,    0,    0,    0,    0,    0,    0,    0,    0,    0,    0,\n",
    "            0,    0,    0,    0]]"
   ]
  },
  {
   "cell_type": "code",
   "execution_count": 241,
   "metadata": {},
   "outputs": [
    {
     "data": {
      "text/plain": [
       "(52, 52)"
      ]
     },
     "execution_count": 241,
     "metadata": {},
     "output_type": "execute_result"
    }
   ],
   "source": [
    "len(a[0]), len(a[1])"
   ]
  },
  {
   "cell_type": "code",
   "execution_count": null,
   "metadata": {},
   "outputs": [],
   "source": []
  }
 ],
 "metadata": {
  "kernelspec": {
   "display_name": "vqa",
   "language": "python",
   "name": "vqa"
  },
  "language_info": {
   "codemirror_mode": {
    "name": "ipython",
    "version": 3
   },
   "file_extension": ".py",
   "mimetype": "text/x-python",
   "name": "python",
   "nbconvert_exporter": "python",
   "pygments_lexer": "ipython3",
   "version": "3.6.10"
  }
 },
 "nbformat": 4,
 "nbformat_minor": 4
}
